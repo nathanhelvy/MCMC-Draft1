{
 "cells": [
  {
   "cell_type": "code",
   "execution_count": 4,
   "metadata": {},
   "outputs": [],
   "source": [
    "import numpy as np\n",
    "import random\n",
    "import copy as cp\n",
    "from decimal import *\n",
    "\n",
    "import matplotlib.pyplot as plt"
   ]
  },
  {
   "cell_type": "markdown",
   "metadata": {},
   "source": [
    "# Functions"
   ]
  },
  {
   "cell_type": "markdown",
   "metadata": {},
   "source": [
    "## Decryption"
   ]
  },
  {
   "cell_type": "markdown",
   "metadata": {},
   "source": [
    "### Creating/Testing Transition matricies"
   ]
  },
  {
   "cell_type": "code",
   "execution_count": 5,
   "metadata": {},
   "outputs": [],
   "source": [
    "A = [\"a\", \"b\", \"c\", \"d\", \"e\", \"f\", \"g\", \"h\", \"i\", \"j\", \"k\", \"l\", \"m\", \"n\", \"o\", \"p\", \"q\", \"r\", \"s\", \"t\", \"u\", \"v\", \"w\", \"x\", \"y\", \"z\", \" \"]"
   ]
  },
  {
   "cell_type": "code",
   "execution_count": 6,
   "metadata": {},
   "outputs": [],
   "source": [
    "def makeTransition(text):\n",
    "\n",
    "    inTxt = text\n",
    "    file = open(inTxt, mode='r', encoding='utf-8-sig')\n",
    "\n",
    "    reader = np.array(([char.lower() for char in file.read()]))\n",
    "    file.close()\n",
    "    \n",
    "    prevL = reader[0]\n",
    "    \n",
    "    F = np.zeros((27, 27))\n",
    "\n",
    "    for letter in reader[1:]:\n",
    "       \n",
    "        if letter in A:\n",
    "       \n",
    "            F[A.index(prevL)][A.index(letter)] += 1\n",
    "            prevL = letter\n",
    "    \n",
    "    for i, vector in enumerate(F):\n",
    "        \n",
    "        for j, element in enumerate(vector):\n",
    "            if element == 0:\n",
    "                vector[j] = .01\n",
    "        \n",
    "        total = np.sum(vector)\n",
    "        #print(vector)\n",
    "        \n",
    "        if total != 0:\n",
    "            F[i] = vector/total  \n",
    "            \n",
    "    return F"
   ]
  },
  {
   "cell_type": "code",
   "execution_count": 7,
   "metadata": {},
   "outputs": [],
   "source": [
    "def check(transitionMatrix):\n",
    "    \n",
    "    F = transitionMatrix \n",
    "    \n",
    "    for i, vector in enumerate(F):\n",
    "        \n",
    "        total = np.sum(vector)\n",
    "        \n",
    "        print(total)"
   ]
  },
  {
   "cell_type": "markdown",
   "metadata": {},
   "source": [
    "### Creating an intial structure and a random guess for the decryption mapping and a method to implement it"
   ]
  },
  {
   "cell_type": "code",
   "execution_count": 8,
   "metadata": {},
   "outputs": [],
   "source": [
    "def genInitialMap():\n",
    "    \n",
    "    Map = []\n",
    "    \n",
    "    A = [\"a\", \"b\", \"c\", \"d\", \"e\", \"f\", \"g\", \"h\", \"i\", \"j\", \"k\", \"l\", \"m\", \"n\", \"o\", \"p\", \"q\", \"r\", \"s\", \"t\", \"u\", \"v\", \"w\", \"x\", \"y\", \"z\", \" \"]\n",
    "    \n",
    "    for i, element in enumerate(A):\n",
    "        \n",
    "        Map.append([element, 0])\n",
    "    \n",
    "    Map[26][1] = \" \"\n",
    "    \n",
    "    for i, element in enumerate(((A[::-1])[1::])):\n",
    "        \n",
    "        Map[i][1] = element\n",
    "    \n",
    "    Map = np.array(Map)\n",
    "    \n",
    "    return Map"
   ]
  },
  {
   "cell_type": "code",
   "execution_count": 9,
   "metadata": {},
   "outputs": [],
   "source": [
    "def randomMap():\n",
    "    \n",
    "    InitialMap = genInitialMap()\n",
    "\n",
    "    for i in range(0,100):\n",
    "\n",
    "        InitialMap = cipherChange(InitialMap)\n",
    "    \n",
    "    return InitialMap"
   ]
  },
  {
   "cell_type": "code",
   "execution_count": 10,
   "metadata": {},
   "outputs": [],
   "source": [
    "def decipher(Map, text):\n",
    "    \n",
    "    decoded = []\n",
    "    \n",
    "    for char in text:\n",
    "        \n",
    "        for elem in Map:\n",
    "            \n",
    "            if char == elem[1]:\n",
    "                \n",
    "                decoded.append(elem[0])\n",
    "                \n",
    "    return decoded"
   ]
  },
  {
   "cell_type": "markdown",
   "metadata": {},
   "source": [
    "### Developing a way to \"update\" the decryption function"
   ]
  },
  {
   "cell_type": "code",
   "execution_count": 11,
   "metadata": {},
   "outputs": [],
   "source": [
    "def cipherChange(Map):\n",
    "    \n",
    "    for i in range(2):\n",
    "    \n",
    "        a = random.randint(0, 25)\n",
    "        b = random.randint(0, 25)\n",
    "    \n",
    "        while b == a:\n",
    "            b = random.randint(0,25)\n",
    "        \n",
    "        a_val = Map[a][1]\n",
    "        b_val = Map[b][1]\n",
    "    \n",
    "        Map[a][1] = b_val\n",
    "        Map[b][1] = a_val\n",
    "    \n",
    "    return Map"
   ]
  },
  {
   "cell_type": "code",
   "execution_count": 29,
   "metadata": {},
   "outputs": [],
   "source": [
    "def cipherChangeMax(Map, count):\n",
    "    count = int(20/count*100)\n",
    "    if count > 20:\n",
    "        count = 20\n",
    "    elif count <= 1:\n",
    "        count = 1\n",
    "        print(count)\n",
    "    for i in range(count):\n",
    "    \n",
    "        a = random.randint(0, 25)\n",
    "        b = random.randint(0, 25)\n",
    "    \n",
    "        a_val = Map[a][1]\n",
    "        b_val = Map[b][1]\n",
    "    \n",
    "        Map[a][1] = b_val\n",
    "        Map[b][1] = a_val\n",
    "    \n",
    "    return Map"
   ]
  },
  {
   "cell_type": "code",
   "execution_count": 30,
   "metadata": {},
   "outputs": [],
   "source": [
    "def cipherChangeFine(Map):\n",
    "    \n",
    "    a = random.randint(0, 25)\n",
    "    b = random.randint(0, 25)\n",
    "    \n",
    "    while b == a:\n",
    "        b = random.randint(0,25)\n",
    "    \n",
    "    a_val = Map[a][1]\n",
    "    b_val = Map[b][1]\n",
    "    \n",
    "    Map[a][1] = b_val\n",
    "    Map[b][1] = a_val\n",
    "    \n",
    "    return Map"
   ]
  },
  {
   "cell_type": "markdown",
   "metadata": {},
   "source": [
    "### Scoring the decryption function"
   ]
  },
  {
   "cell_type": "code",
   "execution_count": 31,
   "metadata": {},
   "outputs": [],
   "source": [
    "def score(decoded, trans):\n",
    "    \n",
    "    prevL = decoded[0]\n",
    "    score = 1\n",
    "    \n",
    "    for element in decoded[1::]:\n",
    "        \n",
    "        score = 100*score*trans[A.index(prevL)][A.index(element)] \n",
    "        \n",
    "        #The ten is an adjustable factor to keep the score from getting too small for python\n",
    "        \n",
    "        prevL = element\n",
    "        \n",
    "    return score"
   ]
  },
  {
   "cell_type": "markdown",
   "metadata": {},
   "source": [
    "## Generating The Cipher (Yes we use randomMap here too)"
   ]
  },
  {
   "cell_type": "code",
   "execution_count": 32,
   "metadata": {},
   "outputs": [],
   "source": [
    "def randomMap():\n",
    "    \n",
    "    InitialMap = genInitialMap()\n",
    "\n",
    "    for i in range(0,100):\n",
    "\n",
    "        InitialMap = cipherChange(InitialMap)\n",
    "    \n",
    "    return InitialMap"
   ]
  },
  {
   "cell_type": "code",
   "execution_count": 33,
   "metadata": {},
   "outputs": [],
   "source": [
    "def cipher(Map, Message):\n",
    "    \n",
    "    text = Message \n",
    "    \n",
    "    coded = []\n",
    "    \n",
    "    for char in text:\n",
    "       \n",
    "        for elem in Map:\n",
    "            \n",
    "            if char == elem[0]:\n",
    "               \n",
    "                coded.append(elem[1])\n",
    "    \n",
    "    return coded"
   ]
  },
  {
   "cell_type": "code",
   "execution_count": 34,
   "metadata": {},
   "outputs": [],
   "source": [
    "def message(text):   \n",
    "    \n",
    "    inTxt = text\n",
    "    file = open(inTxt, mode='r', encoding='utf-8-sig')\n",
    "\n",
    "    reader = [char.lower() for char in file.read()]\n",
    "    reader = np.array([char for char in reader if char in A])\n",
    "    file.close()\n",
    "    \n",
    "    return reader"
   ]
  },
  {
   "cell_type": "markdown",
   "metadata": {},
   "source": [
    "# Implementing"
   ]
  },
  {
   "cell_type": "markdown",
   "metadata": {},
   "source": [
    "## Create Cipher"
   ]
  },
  {
   "cell_type": "code",
   "execution_count": 35,
   "metadata": {},
   "outputs": [],
   "source": [
    "#Generate Random Cipher Key\n",
    "\n",
    "key = randomMap()"
   ]
  },
  {
   "cell_type": "code",
   "execution_count": 36,
   "metadata": {
    "scrolled": false
   },
   "outputs": [
    {
     "name": "stdout",
     "output_type": "stream",
     "text": [
      "['d' ' ' 'l' 'i' 't' 't' 'l' 'e' ' ' 'h' 'a' 's' ' ' 'c' 'h' 'a' 'n' 'g'\n",
      " 'e' 'd' ' ' 's' 'i' 'n' 'c' 'e' ' ' ' ' 'y' 'e' 'a' 'r' 's' ' ' 'l' 'a'\n",
      " 't' 'e' 'r' ' ' 'a' ' ' 't' 'i' 'm' 'e' 'c' 'o' 'v' 'e' 'r' ' ' 's' 't'\n",
      " 'o' 'r' 'y' ' ' 'o' 'n' ' ' 'd' 'e' 'e' 'p' 's' 'e' 'a' ' ' 'e' 'x' 'p'\n",
      " 'l' 'o' 'r' 'a' 't' 'i' 'o' 'n' ' ' 'm' 'a' 'd' 'e' ' ' 'm' 'u' 'c' 'h'\n",
      " ' ' 't' 'h' 'e' ' ' 's' 'a' 'm' 'e' ' ' 'a' 'd' 'm' 'i' 's' 's' 'i' 'o'\n",
      " 'n' ' ' 'w' 'e' 'k' 'n' 'o' 'w' ' ' 'm' 'o' 'r' 'e' ' ' 'a' 'b' 'o' 'u'\n",
      " 't' ' ' 'm' 'a' 'r' 's' ' ' 't' 'h' 'a' 'n' ' ' 'w' 'e' ' ' 'k' 'n' 'o'\n",
      " 'w' ' ' 'a' 'b' 'o' 'u' 't' ' ' 't' 'h' 'e' ' ' 'o' 'c' 'e' 'a' 'n' 's'\n",
      " ' ' 't' 'h' 'i' 's' ' ' 'r' 'e' 'a' 'l' 'i' 't' 'y' 'b' 'e' 'g' 'i' 'n'\n",
      " 's' ' ' 't' 'o' ' ' 'e' 'x' 'p' 'l' 'a' 'i' 'n' ' ' 't' 'h' 'e' ' ' 'd'\n",
      " 'a' 'r' 'k' ' ' 'p' 'o' 'w' 'e' 'r' ' ' 'a' 'n' 'd' ' ' 'o' 't' 'h' 'e'\n",
      " 'r' 'w' 'o' 'r' 'l' 'd' 'l' 'y' ' ' 'f' 'a' 's' 'c' 'i' 'n' 'a' 't' 'i'\n",
      " 'o' 'n' ' ' 'o' 'f' 't' 'w' 'e' 'n' 't' 'y' ' ' 't' 'h' 'o' 'u' 's' 'a'\n",
      " 'n' 'd' ' ' 'l' 'e' 'a' 'g' 'u' 'e' 's' ' ' 'u' 'n' 'd' 'e' 'r' ' ' 't'\n",
      " 'h' 'e' ' ' 's' 'e' 'a' 's' 'b' 'o' 'r' 'n' ' ' 'i' 'n' ' ' 't' 'h' 'e'\n",
      " ' ' 'f' 'r' 'e' 'n' 'c' 'h' ' ' 'r' 'i' 'v' 'e']\n",
      "\n",
      "['n', ' ', 'y', 'i', 'o', 'o', 'y', 'x', ' ', 'u', 'k', 's', ' ', 'q', 'u', 'k', 'm', 'z', 'x', 'n', ' ', 's', 'i', 'm', 'q', 'x', ' ', ' ', 'g', 'x', 'k', 't', 's', ' ', 'y', 'k', 'o', 'x', 't', ' ', 'k', ' ', 'o', 'i', 'r', 'x', 'q', 'a', 'e', 'x', 't', ' ', 's', 'o', 'a', 't', 'g', ' ', 'a', 'm', ' ', 'n', 'x', 'x', 'p', 's', 'x', 'k', ' ', 'x', 'j', 'p', 'y', 'a', 't', 'k', 'o', 'i', 'a', 'm', ' ', 'r', 'k', 'n', 'x', ' ', 'r', 'c', 'q', 'u', ' ', 'o', 'u', 'x', ' ', 's', 'k', 'r', 'x', ' ', 'k', 'n', 'r', 'i', 's', 's', 'i', 'a', 'm', ' ', 'd', 'x', 'w', 'm', 'a', 'd', ' ', 'r', 'a', 't', 'x', ' ', 'k', 'b', 'a', 'c', 'o', ' ', 'r', 'k', 't', 's', ' ', 'o', 'u', 'k', 'm', ' ', 'd', 'x', ' ', 'w', 'm', 'a', 'd', ' ', 'k', 'b', 'a', 'c', 'o', ' ', 'o', 'u', 'x', ' ', 'a', 'q', 'x', 'k', 'm', 's', ' ', 'o', 'u', 'i', 's', ' ', 't', 'x', 'k', 'y', 'i', 'o', 'g', 'b', 'x', 'z', 'i', 'm', 's', ' ', 'o', 'a', ' ', 'x', 'j', 'p', 'y', 'k', 'i', 'm', ' ', 'o', 'u', 'x', ' ', 'n', 'k', 't', 'w', ' ', 'p', 'a', 'd', 'x', 't', ' ', 'k', 'm', 'n', ' ', 'a', 'o', 'u', 'x', 't', 'd', 'a', 't', 'y', 'n', 'y', 'g', ' ', 'h', 'k', 's', 'q', 'i', 'm', 'k', 'o', 'i', 'a', 'm', ' ', 'a', 'h', 'o', 'd', 'x', 'm', 'o', 'g', ' ', 'o', 'u', 'a', 'c', 's', 'k', 'm', 'n', ' ', 'y', 'x', 'k', 'z', 'c', 'x', 's', ' ', 'c', 'm', 'n', 'x', 't', ' ', 'o', 'u', 'x', ' ', 's', 'x', 'k', 's', 'b', 'a', 't', 'm', ' ', 'i', 'm', ' ', 'o', 'u', 'x', ' ', 'h', 't', 'x', 'm', 'q', 'u', ' ', 't', 'i', 'e', 'x']\n",
      "\n",
      "[['a' 'k']\n",
      " ['b' 'b']\n",
      " ['c' 'q']\n",
      " ['d' 'n']\n",
      " ['e' 'x']\n",
      " ['f' 'h']\n",
      " ['g' 'z']\n",
      " ['h' 'u']\n",
      " ['i' 'i']\n",
      " ['j' 'v']\n",
      " ['k' 'w']\n",
      " ['l' 'y']\n",
      " ['m' 'r']\n",
      " ['n' 'm']\n",
      " ['o' 'a']\n",
      " ['p' 'p']\n",
      " ['q' 'l']\n",
      " ['r' 't']\n",
      " ['s' 's']\n",
      " ['t' 'o']\n",
      " ['u' 'c']\n",
      " ['v' 'e']\n",
      " ['w' 'd']\n",
      " ['x' 'j']\n",
      " ['y' 'g']\n",
      " ['z' 'f']\n",
      " [' ' ' ']]\n"
     ]
    }
   ],
   "source": [
    "#encode Message\n",
    "\n",
    "M1Prime = message('twentyleagues.txt')\n",
    "\n",
    "Q = 3100\n",
    "R = 3400\n",
    "\n",
    "M1 = M1Prime[Q:R:]\n",
    "encryptedText = cipher(key,M1)[0:R-Q:]\n",
    "\n",
    "print(M1)\n",
    "print(\"\")\n",
    "print(encryptedText)\n",
    "print(\"\")\n",
    "print(key)"
   ]
  },
  {
   "cell_type": "markdown",
   "metadata": {},
   "source": [
    "## Generate decrypting Tools"
   ]
  },
  {
   "cell_type": "code",
   "execution_count": 37,
   "metadata": {
    "scrolled": false
   },
   "outputs": [],
   "source": [
    "#Generate Transition Matrix\n",
    "\n",
    "Trans = makeTransition('twentyleagues.txt')\n"
   ]
  },
  {
   "cell_type": "code",
   "execution_count": 38,
   "metadata": {
    "scrolled": true
   },
   "outputs": [
    {
     "name": "stdout",
     "output_type": "stream",
     "text": [
      "[[5.12416961e-04 2.33149717e-02 3.99319217e-02 4.68861519e-02\n",
      "  9.69932105e-04 7.94246290e-03 1.73489743e-02 2.41567996e-03\n",
      "  4.94482367e-02 4.20913932e-04 1.19868968e-02 7.56364036e-02\n",
      "  2.29123584e-02 1.94498838e-01 5.85619384e-04 3.31057958e-02\n",
      "  5.67318778e-04 9.75422286e-02 9.09174094e-02 1.34216643e-01\n",
      "  2.24182420e-02 2.35528796e-02 7.81435866e-03 2.54378420e-03\n",
      "  2.47241184e-02 2.12287027e-03 6.56625734e-02]\n",
      " [7.99633878e-02 8.14721310e-03 7.04080144e-04 1.40816029e-03\n",
      "  2.64935300e-01 1.00582878e-04 7.04080144e-04 1.00582878e-06\n",
      "  4.50611292e-02 7.24196720e-03 1.00582878e-06 1.25225683e-01\n",
      "  6.53788706e-03 3.01748633e-04 1.17078470e-01 2.01165756e-04\n",
      "  1.00582878e-06 7.34255008e-02 2.64532969e-02 9.25362476e-03\n",
      "  1.19593042e-01 4.52622950e-03 1.00582878e-04 1.00582878e-06\n",
      "  1.01387541e-01 1.00582878e-06 7.64429871e-03]\n",
      " [1.68453022e-01 1.04079717e-04 1.62884757e-02 3.12239150e-04\n",
      "  1.56119575e-01 1.56119575e-04 1.04079717e-04 1.19067196e-01\n",
      "  5.07909018e-02 5.20398584e-07 5.69836449e-02 4.76164704e-02\n",
      "  2.08159433e-04 2.60199292e-04 2.05245201e-01 4.16318867e-04\n",
      "  3.64279009e-04 3.98625315e-02 2.81015235e-03 6.92130116e-02\n",
      "  3.39820275e-02 5.20398584e-07 1.04079717e-04 5.20398584e-07\n",
      "  3.64279009e-03 5.20398584e-07 2.78933641e-02]\n",
      " [3.25173968e-02 3.46614010e-03 3.39467329e-03 1.12560220e-02\n",
      "  1.41504276e-01 4.53814219e-03 3.03733926e-03 2.03680398e-03\n",
      "  9.07271104e-02 8.93335077e-04 2.85867225e-04 9.00481758e-03\n",
      "  3.71627392e-03 1.76523011e-02 4.07360795e-02 1.42933612e-03\n",
      "  7.14668062e-05 1.67232326e-02 3.65910048e-02 8.36161632e-03\n",
      "  1.52581631e-02 2.35840460e-03 5.32427706e-03 3.57334031e-07\n",
      "  1.10773550e-02 3.57334031e-07 5.38037850e-01]\n",
      " [6.47965231e-02 3.34673577e-03 2.32644618e-02 9.82173984e-02\n",
      "  3.12362005e-02 9.57538290e-03 6.35647384e-03 2.38222511e-03\n",
      "  1.80351872e-02 3.48618309e-04 5.81030516e-04 3.57449973e-02\n",
      "  2.23812955e-02 8.31803286e-02 3.89290446e-03 1.64315430e-02\n",
      "  1.97550375e-03 1.26920306e-01 8.19717852e-02 3.13175448e-02\n",
      "  2.01036558e-03 1.50719316e-02 1.09001325e-02 1.06212378e-02\n",
      "  9.62186534e-03 6.39133567e-04 2.89178888e-01]\n",
      " [6.29556062e-02 1.10676867e-03 2.27864138e-03 7.16144435e-04\n",
      "  8.54164998e-02 4.16665853e-02 4.55728277e-04 1.04166463e-03\n",
      "  1.13606549e-01 1.30208079e-04 6.51040395e-05 3.54165975e-02\n",
      "  1.82291311e-03 1.10676867e-03 1.38736708e-01 2.14843330e-03\n",
      "  6.51040395e-07 9.11456553e-02 6.38019587e-03 4.70051165e-02\n",
      "  3.90624237e-02 4.55728277e-04 2.21353734e-03 6.51040395e-07\n",
      "  3.97134641e-03 6.51040395e-07 3.21093123e-01]\n",
      " [5.96913488e-02 4.09865691e-03 1.11781552e-03 2.45919414e-03\n",
      "  1.37342267e-01 2.90632035e-03 1.28921390e-02 1.17445151e-01\n",
      "  5.84244912e-02 2.98084139e-04 7.45210347e-07 4.08375270e-02\n",
      "  1.49042069e-03 1.46806438e-02 5.76047598e-02 1.19233655e-03\n",
      "  7.45210347e-07 7.18382774e-02 2.19837052e-02 1.55748962e-02\n",
      "  4.00177956e-02 2.23563104e-04 3.27892553e-03 7.45210347e-07\n",
      "  3.94961484e-03 1.49042069e-04 3.30500789e-01]\n",
      " [1.57490774e-01 9.76643705e-04 6.41794435e-04 5.58082117e-04\n",
      "  4.47972516e-01 6.69698541e-04 4.18561588e-04 3.06945165e-04\n",
      "  1.32628215e-01 2.79041059e-05 8.37123176e-05 2.26023258e-03\n",
      "  2.09280794e-03 6.41794435e-04 7.05694837e-02 6.69698541e-04\n",
      "  1.39520529e-04 1.33102585e-02 6.64117720e-03 3.21176259e-02\n",
      "  1.37567242e-02 1.67424635e-04 1.98119152e-03 2.79041059e-07\n",
      "  5.97147866e-03 2.79041059e-07 1.07905177e-01]\n",
      " [1.99687690e-02 8.48467243e-03 5.08258586e-02 3.80885779e-02\n",
      "  3.64450578e-02 2.29476492e-02 3.34250897e-02 4.72512024e-04\n",
      "  4.10880021e-04 1.02720005e-04 8.23814442e-03 6.97263395e-02\n",
      "  3.87665300e-02 2.57580685e-01 4.19919381e-02 1.06417925e-02\n",
      "  1.97222410e-03 3.51713298e-02 1.13361798e-01 1.28317830e-01\n",
      "  1.74624009e-03 2.20026251e-02 4.72512024e-04 2.38310412e-03\n",
      "  2.05440010e-07 5.27980827e-03 5.11751066e-02]\n",
      " [1.40245236e-01 1.28665354e-05 1.28665354e-05 1.28665354e-05\n",
      "  2.84350433e-01 1.28665354e-05 1.28665354e-05 1.28665354e-05\n",
      "  6.43326771e-03 1.28665354e-05 1.28665354e-05 1.28665354e-05\n",
      "  1.28665354e-05 1.28665354e-05 1.24805394e-01 1.28665354e-05\n",
      "  1.28665354e-05 1.28665354e-05 1.28665354e-05 1.28665354e-05\n",
      "  4.38748858e-01 1.28665354e-05 1.28665354e-05 1.28665354e-05\n",
      "  1.28665354e-05 1.28665354e-05 5.14661417e-03]\n",
      " [1.87523967e-02 1.89630978e-03 2.10701087e-03 2.31771195e-03\n",
      "  3.14155320e-01 5.47822826e-03 2.10701087e-03 3.37121739e-03\n",
      "  1.24945744e-01 2.10701087e-06 2.10701087e-06 2.57055326e-02\n",
      "  3.16051630e-03 6.91099565e-02 1.07457554e-02 1.89630978e-03\n",
      "  2.10701087e-06 1.89630978e-03 1.05561244e-01 4.63542391e-03\n",
      "  2.52841304e-03 2.10701087e-06 6.11033152e-03 2.10701087e-06\n",
      "  1.15885598e-02 2.10701087e-06 2.81918054e-01]\n",
      " [1.08612403e-01 1.91387494e-03 4.44292398e-03 5.24948556e-02\n",
      "  1.73068977e-01 1.52084705e-02 1.43540621e-03 1.09364283e-03\n",
      "  1.08031405e-01 1.02529015e-04 3.96445524e-03 1.16985606e-01\n",
      "  5.16062708e-03 3.07587045e-03 8.97812407e-02 3.52016284e-03\n",
      "  3.41763383e-05 3.55433918e-03 2.77853630e-02 1.71565218e-02\n",
      "  4.20368961e-02 5.09227440e-03 2.32399100e-03 3.41763383e-07\n",
      "  8.56459037e-02 1.02529015e-04 1.27375213e-01]\n",
      " [1.47663956e-01 1.92708921e-02 1.43189291e-03 2.98311023e-04\n",
      "  2.75400736e-01 1.84952834e-03 2.98311023e-04 7.15946454e-04\n",
      "  8.08422871e-02 1.19324409e-04 5.96622045e-04 2.20750157e-03\n",
      "  2.53564369e-02 3.57973227e-03 1.33941649e-01 5.69177431e-02\n",
      "  5.96622045e-07 4.23601652e-03 2.60723834e-02 4.59398975e-03\n",
      "  2.48791393e-02 5.96622045e-07 1.55121732e-03 5.96622045e-05\n",
      "  5.97218667e-02 5.96622045e-07 1.28393064e-01]\n",
      " [4.99677694e-02 3.80528581e-03 3.46218627e-02 1.43623547e-01\n",
      "  9.65877191e-02 4.80339357e-03 1.27820174e-01 1.53874945e-03\n",
      "  3.63061696e-02 6.23817346e-04 1.00226654e-02 9.75234451e-03\n",
      "  1.89224595e-03 8.67106111e-03 4.75972635e-02 1.70510075e-03\n",
      "  6.65405169e-04 1.18525296e-03 5.90547088e-02 1.12287122e-01\n",
      "  9.44043584e-03 3.22305629e-03 3.26464411e-03 1.66351292e-04\n",
      "  8.81661849e-03 1.24763469e-04 2.22432472e-01]\n",
      " [1.42833416e-02 1.02350108e-02 1.83524332e-02 1.53421359e-02\n",
      "  3.21790400e-03 1.03014449e-01 4.71267231e-03 1.57781099e-03\n",
      "  1.03803355e-02 1.93074240e-03 8.65719980e-03 3.13070918e-02\n",
      "  5.88772629e-02 1.63075071e-01 3.21998007e-02 2.24630460e-02\n",
      "  2.07606710e-04 1.17422355e-01 3.14108952e-02 3.54592260e-02\n",
      "  1.31269723e-01 1.86846039e-02 4.18327520e-02 1.37020429e-03\n",
      "  3.38398937e-03 7.88905497e-04 1.18543431e-01]\n",
      " [9.73236737e-02 7.47493654e-04 4.48496192e-04 5.23245558e-04\n",
      "  1.95095844e-01 2.98997462e-04 2.98997462e-04 2.85542576e-02\n",
      "  4.63446065e-02 7.47493654e-07 7.47493654e-07 1.12796792e-01\n",
      "  2.69097715e-03 2.98997462e-04 9.83701648e-02 5.18013102e-02\n",
      "  7.47493654e-05 1.21691967e-01 3.14694828e-02 1.03154124e-01\n",
      "  3.20674777e-02 1.49498731e-04 2.69097715e-03 7.47493654e-07\n",
      "  6.87694161e-03 7.47493654e-07 6.62279377e-02]\n",
      " [1.39618005e-03 1.39618005e-05 1.39618005e-05 1.39618005e-05\n",
      "  1.39618005e-05 1.39618005e-05 1.39618005e-05 1.39618005e-05\n",
      "  1.39618005e-05 1.39618005e-05 1.39618005e-05 1.39618005e-05\n",
      "  1.39618005e-05 1.39618005e-05 1.39618005e-05 1.39618005e-05\n",
      "  1.39618005e-05 1.39618005e-05 1.39618005e-05 1.39618005e-05\n",
      "  9.96872557e-01 1.39618005e-05 1.39618005e-05 1.39618005e-05\n",
      "  1.39618005e-05 1.39618005e-05 1.39618005e-03]\n",
      " [7.82344560e-02 5.05880737e-03 1.21664317e-02 2.73934419e-02\n",
      "  2.40748643e-01 1.17870212e-02 1.23687840e-02 3.38940094e-03\n",
      "  8.06626835e-02 2.02352295e-04 1.26217244e-02 1.09017299e-02\n",
      "  2.11458148e-02 1.98052309e-02 9.72302777e-02 8.70114868e-03\n",
      "  1.77058258e-04 1.95775845e-02 5.39015925e-02 3.88769346e-02\n",
      "  1.76299437e-02 8.67585464e-03 7.68938720e-03 2.52940369e-07\n",
      "  2.28911034e-02 5.05880737e-05 1.88111752e-01]\n",
      " [3.24042560e-02 2.66858579e-03 1.67104301e-02 1.63080243e-03\n",
      "  1.24491645e-01 3.02863308e-03 8.04811587e-04 5.02583657e-02\n",
      "  5.68239339e-02 4.44764298e-04 9.14943699e-03 1.46136841e-02\n",
      "  6.09962466e-03 6.88325700e-03 4.86275633e-02 2.64528861e-02\n",
      "  1.94849121e-03 1.14367962e-03 4.80769027e-02 1.24957589e-01\n",
      "  3.53693513e-02 5.08302055e-04 1.05260884e-02 2.11792523e-07\n",
      "  2.30853850e-03 2.11792523e-07 3.74067954e-01]\n",
      " [5.13136618e-02 1.15275621e-03 5.10735042e-03 8.32546150e-04\n",
      "  1.00353832e-01 2.88189052e-03 6.08399110e-04 3.22211371e-01\n",
      "  7.68344034e-02 9.60630173e-05 1.44094526e-04 1.24881923e-02\n",
      "  2.88189052e-03 1.55301878e-03 8.47916233e-02 8.64567156e-04\n",
      "  4.80315087e-05 3.04359660e-02 4.00582782e-02 1.66028915e-02\n",
      "  1.94527610e-02 1.76115532e-04 1.05509214e-02 1.60105029e-05\n",
      "  1.18637826e-02 2.08136538e-04 2.06471445e-01]\n",
      " [2.72762066e-02 1.86803598e-02 2.69400562e-02 1.98328756e-02\n",
      "  2.83807009e-02 4.27391266e-03 3.41913013e-02 5.76257887e-04\n",
      "  2.85727869e-02 4.80214906e-07 4.32193415e-04 9.97406359e-02\n",
      "  3.34229574e-02 1.23559295e-01 1.87283813e-03 3.51037096e-02\n",
      "  4.80214906e-04 1.60343757e-01 1.61976488e-01 1.59143220e-01\n",
      "  2.88128943e-04 2.78524645e-03 4.32193415e-04 8.64386830e-04\n",
      "  2.40107453e-04 7.20322359e-04 2.98693671e-02]\n",
      " [7.93478021e-02 1.57749110e-06 1.57749110e-06 1.57749110e-06\n",
      "  7.00406046e-01 1.57749110e-06 1.57749110e-06 1.57749110e-06\n",
      "  1.60904092e-01 1.57749110e-06 1.57749110e-06 1.57749110e-06\n",
      "  1.57749110e-06 1.57749110e-06 4.68514855e-02 1.57749110e-06\n",
      "  1.57749110e-06 3.15498219e-04 3.15498219e-04 1.57749110e-06\n",
      "  2.52398575e-03 1.57749110e-06 1.57749110e-06 1.57749110e-06\n",
      "  8.20295369e-03 1.57749110e-06 1.10424377e-03]\n",
      " [2.21975657e-01 5.36335022e-04 6.70418777e-04 1.54196319e-03\n",
      "  2.05684481e-01 9.38586288e-04 9.38586288e-04 1.57481371e-01\n",
      "  1.56341659e-01 6.70418777e-07 4.02251266e-04 3.35209389e-03\n",
      "  2.48054948e-03 3.11744731e-02 9.77470577e-02 8.71544410e-04\n",
      "  6.70418777e-07 8.31319284e-03 1.83694745e-02 2.27942384e-03\n",
      "  2.01125633e-04 6.70418777e-07 2.01125633e-03 6.70418777e-07\n",
      "  2.68167511e-04 6.70418777e-07 8.64169804e-02]\n",
      " [6.96902308e-02 1.56607260e-03 1.70701914e-01 7.83036302e-06\n",
      "  4.15009240e-02 2.34910890e-03 7.83036302e-06 4.46330692e-02\n",
      "  1.15889373e-01 7.83036302e-06 7.83036302e-06 7.83036302e-04\n",
      "  3.13214521e-03 7.83036302e-06 5.48125411e-03 1.74617095e-01\n",
      "  3.91518151e-03 7.83036302e-06 4.69821781e-03 1.70701914e-01\n",
      "  8.61339932e-03 1.56607260e-03 1.56607260e-03 7.83036302e-06\n",
      "  2.58401980e-02 7.83036302e-06 1.52692079e-01]\n",
      " [1.30147976e-02 6.23997147e-03 6.50739882e-03 4.01141023e-03\n",
      "  6.11517204e-02 8.64681761e-03 6.06168658e-03 3.29827064e-03\n",
      "  2.46033161e-02 3.56569799e-04 4.45712248e-04 9.35995721e-03\n",
      "  7.13139597e-03 3.65484044e-03 1.03940096e-01 1.05188091e-02\n",
      "  1.78284899e-04 1.44410768e-02 4.95632020e-02 1.93439116e-02\n",
      "  1.15885185e-03 2.13941879e-03 5.17026208e-03 5.34854698e-04\n",
      "  1.33713674e-03 5.34854698e-04 6.36655375e-01]\n",
      " [4.62453555e-02 4.78400230e-03 3.18933486e-03 3.18933486e-03\n",
      "  4.25776204e-01 1.59466743e-05 1.59466743e-05 1.59466743e-03\n",
      "  7.65440367e-02 1.59466743e-03 1.59466743e-05 3.98666858e-02\n",
      "  1.59466743e-05 1.59466743e-03 2.34416113e-01 1.59466743e-03\n",
      "  1.59466743e-03 3.18933486e-03 1.59466743e-05 1.59466743e-05\n",
      "  1.91360092e-02 1.59466743e-05 1.59466743e-05 1.59466743e-05\n",
      "  3.02986812e-02 6.69760321e-02 3.82720184e-02]\n",
      " [9.78854513e-02 4.32100160e-02 5.19635095e-02 2.87614786e-02\n",
      "  2.38423467e-02 4.11308730e-02 1.66783430e-02 4.40612594e-02\n",
      "  7.59866513e-02 3.36730774e-03 4.12815356e-03 2.89648730e-02\n",
      "  4.31271516e-02 3.00496433e-02 7.04347368e-02 2.90628037e-02\n",
      "  1.81548359e-03 2.17180049e-02 7.58284556e-02 1.58941445e-01\n",
      "  1.41547455e-02 6.69694984e-03 7.03368061e-02 6.02650154e-05\n",
      "  9.03221918e-03 5.42385139e-04 8.21864148e-03]]\n"
     ]
    }
   ],
   "source": [
    "print(Trans)"
   ]
  },
  {
   "cell_type": "code",
   "execution_count": 39,
   "metadata": {
    "scrolled": false
   },
   "outputs": [
    {
     "name": "stdout",
     "output_type": "stream",
     "text": [
      "1.0\n",
      "1.0\n",
      "1.0\n",
      "1.0\n",
      "1.0\n",
      "1.0\n",
      "1.0\n",
      "0.9999999999999999\n",
      "0.9999999999999998\n",
      "1.0000000000000002\n",
      "1.0\n",
      "1.0\n",
      "1.0\n",
      "1.0\n",
      "1.0\n",
      "0.9999999999999999\n",
      "1.0000000000000002\n",
      "1.0\n",
      "1.0\n",
      "1.0\n",
      "0.9999999999999999\n",
      "1.0\n",
      "1.0\n",
      "1.0\n",
      "1.0\n",
      "1.0000000000000002\n",
      "1.0\n"
     ]
    }
   ],
   "source": [
    "#Check Transition Matrix (all sums should be 1)\n",
    "\n",
    "check(Trans)"
   ]
  },
  {
   "cell_type": "code",
   "execution_count": 40,
   "metadata": {},
   "outputs": [],
   "source": [
    "#Implement Metroplolis (we use czech boi's version)\n",
    "\n",
    "Guess = randomMap()\n",
    "\n",
    "i = 1\n",
    "I = []\n",
    "\n",
    "t1 = 0\n",
    "t2 = 0\n",
    "\n",
    "while (i < 1000):\n",
    "    \n",
    "    newGuess = cipherChangeMax(cp.deepcopy(Guess), i)\n",
    "        \n",
    "    G = decipher(Guess,encryptedText)\n",
    "    GPrime = decipher(newGuess,encryptedText)\n",
    "    \n",
    "    GS = score(G,Trans)\n",
    "    GSPrime = score(GPrime,Trans)\n",
    "    \n",
    "    if GSPrime > GS:\n",
    "        \n",
    "        Guess = newGuess\n",
    "        \n",
    "        i = 1\n",
    "        t2 += 1\n",
    "    \n",
    "    else:\n",
    "        \n",
    "        Q = GSPrime/GS\n",
    "        \n",
    "        #print(Q)\n",
    "        \n",
    "        B = np.random.random()\n",
    "        \n",
    "        if Q > B: \n",
    "            \n",
    "            Guess = newGuess\n",
    "            \n",
    "            i = 1\n",
    "            t2 += 1\n",
    "        \n",
    "        else:\n",
    "            \n",
    "            Guess = Guess\n",
    "            \n",
    "            t1 += 1\n",
    "            i += 1\n",
    "            I.append(i)\n",
    "            \n",
    "            #print(i)\n"
   ]
  },
  {
   "cell_type": "code",
   "execution_count": null,
   "metadata": {},
   "outputs": [],
   "source": []
  },
  {
   "cell_type": "code",
   "execution_count": 41,
   "metadata": {},
   "outputs": [
    {
     "data": {
      "image/png": "[encoded data removed]",
      "text/plain": [
       "<matplotlib.figure.Figure at 0x114f524a8>"
      ]
     },
     "metadata": {},
     "output_type": "display_data"
    },
    {
     "name": "stdout",
     "output_type": "stream",
     "text": [
      "\n",
      "number of iterations equals 28528\n",
      "\n",
      "number of resests equals 53\n"
     ]
    }
   ],
   "source": [
    "#This  should show how our proposed decryption functions survive for longer and longer until we see a \"best\" function emerge\n",
    "\n",
    "plt.figure()\n",
    "plt.title(\"Decryption Function Survival Time\")\n",
    "plt.plot(I)\n",
    "plt.show()\n",
    "\n",
    "print(\"\")        \n",
    "print(\"number of iterations equals\",t1+t2) \n",
    "print(\"\")\n",
    "print(\"number of resests equals\",t2) \n",
    "\n"
   ]
  },
  {
   "cell_type": "code",
   "execution_count": 42,
   "metadata": {},
   "outputs": [
    {
     "name": "stdout",
     "output_type": "stream",
     "text": [
      "[['a' 'k']\n",
      " ['b' 'b']\n",
      " ['c' 'r']\n",
      " ['d' 'n']\n",
      " ['e' 'x']\n",
      " ['f' 'd']\n",
      " ['g' 'q']\n",
      " ['h' 'u']\n",
      " ['i' 'i']\n",
      " ['j' 'e']\n",
      " ['k' 'w']\n",
      " ['l' 'p']\n",
      " ['m' 'y']\n",
      " ['n' 'm']\n",
      " ['o' 'a']\n",
      " ['p' 'j']\n",
      " ['q' 'l']\n",
      " ['r' 't']\n",
      " ['s' 's']\n",
      " ['t' 'o']\n",
      " ['u' 'c']\n",
      " ['v' 'z']\n",
      " ['w' 'h']\n",
      " ['x' 'v']\n",
      " ['y' 'g']\n",
      " ['z' 'f']\n",
      " [' ' ' ']]\n"
     ]
    }
   ],
   "source": [
    "print(Guess)"
   ]
  },
  {
   "cell_type": "code",
   "execution_count": 43,
   "metadata": {},
   "outputs": [
    {
     "name": "stdout",
     "output_type": "stream",
     "text": [
      "['d', ' ', 'm', 'i', 't', 't', 'm', 'e', ' ', 'h', 'a', 's', ' ', 'g', 'h', 'a', 'n', 'v', 'e', 'd', ' ', 's', 'i', 'n', 'g', 'e', ' ', ' ', 'y', 'e', 'a', 'r', 's', ' ', 'm', 'a', 't', 'e', 'r', ' ', 'a', ' ', 't', 'i', 'c', 'e', 'g', 'o', 'j', 'e', 'r', ' ', 's', 't', 'o', 'r', 'y', ' ', 'o', 'n', ' ', 'd', 'e', 'e', 'l', 's', 'e', 'a', ' ', 'e', 'p', 'l', 'm', 'o', 'r', 'a', 't', 'i', 'o', 'n', ' ', 'c', 'a', 'd', 'e', ' ', 'c', 'u', 'g', 'h', ' ', 't', 'h', 'e', ' ', 's', 'a', 'c', 'e', ' ', 'a', 'd', 'c', 'i', 's', 's', 'i', 'o', 'n', ' ', 'f', 'e', 'k', 'n', 'o', 'f', ' ', 'c', 'o', 'r', 'e', ' ', 'a', 'b', 'o', 'u', 't', ' ', 'c', 'a', 'r', 's', ' ', 't', 'h', 'a', 'n', ' ', 'f', 'e', ' ', 'k', 'n', 'o', 'f', ' ', 'a', 'b', 'o', 'u', 't', ' ', 't', 'h', 'e', ' ', 'o', 'g', 'e', 'a', 'n', 's', ' ', 't', 'h', 'i', 's', ' ', 'r', 'e', 'a', 'm', 'i', 't', 'y', 'b', 'e', 'v', 'i', 'n', 's', ' ', 't', 'o', ' ', 'e', 'p', 'l', 'm', 'a', 'i', 'n', ' ', 't', 'h', 'e', ' ', 'd', 'a', 'r', 'k', ' ', 'l', 'o', 'f', 'e', 'r', ' ', 'a', 'n', 'd', ' ', 'o', 't', 'h', 'e', 'r', 'f', 'o', 'r', 'm', 'd', 'm', 'y', ' ', 'w', 'a', 's', 'g', 'i', 'n', 'a', 't', 'i', 'o', 'n', ' ', 'o', 'w', 't', 'f', 'e', 'n', 't', 'y', ' ', 't', 'h', 'o', 'u', 's', 'a', 'n', 'd', ' ', 'm', 'e', 'a', 'v', 'u', 'e', 's', ' ', 'u', 'n', 'd', 'e', 'r', ' ', 't', 'h', 'e', ' ', 's', 'e', 'a', 's', 'b', 'o', 'r', 'n', ' ', 'i', 'n', ' ', 't', 'h', 'e', ' ', 'w', 'r', 'e', 'n', 'g', 'h', ' ', 'r', 'i', 'j', 'e']\n"
     ]
    }
   ],
   "source": [
    "print(G)\n"
   ]
  },
  {
   "cell_type": "code",
   "execution_count": 44,
   "metadata": {},
   "outputs": [],
   "source": [
    "def compare(map1, map2):\n",
    "    matches = 0\n",
    "    for i, key in enumerate(map1):\n",
    "        if key[1] == map2[i][1]:\n",
    "            matches += 1\n",
    "    return matches"
   ]
  },
  {
   "cell_type": "code",
   "execution_count": 45,
   "metadata": {},
   "outputs": [
    {
     "data": {
      "text/plain": [
       "17"
      ]
     },
     "execution_count": 45,
     "metadata": {},
     "output_type": "execute_result"
    }
   ],
   "source": [
    "compare(key,Guess)"
   ]
  },
  {
   "cell_type": "code",
   "execution_count": null,
   "metadata": {},
   "outputs": [],
   "source": []
  }
 ],
 "metadata": {
  "kernelspec": {
   "display_name": "Python 3",
   "language": "python",
   "name": "python3"
  },
  "language_info": {
   "codemirror_mode": {
    "name": "ipython",
    "version": 3
   },
   "file_extension": ".py",
   "mimetype": "text/x-python",
   "name": "python",
   "nbconvert_exporter": "python",
   "pygments_lexer": "ipython3",
   "version": "3.6.4"
  }
 },
 "nbformat": 4,
 "nbformat_minor": 2
}
